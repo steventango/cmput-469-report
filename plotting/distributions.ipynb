{
 "cells": [
  {
   "cell_type": "code",
   "execution_count": null,
   "metadata": {},
   "outputs": [],
   "source": [
    "import json\n",
    "import matplotlib.pyplot as plt\n",
    "import seaborn as sns\n",
    "import pandas as pd\n"
   ]
  },
  {
   "cell_type": "code",
   "execution_count": null,
   "metadata": {},
   "outputs": [],
   "source": [
    "with open('../data/processed/qt-coyotes-merged.json') as f:\n",
    "    data = json.load(f)\n"
   ]
  },
  {
   "cell_type": "code",
   "execution_count": null,
   "metadata": {},
   "outputs": [],
   "source": [
    "categories_per_location = {}\n",
    "categories_per_dataset = {}\n",
    "\n",
    "image_id_to_image = {image['id']: image for image in data['images']}\n",
    "category_id_to_category = {category['id']: category['name'] for category in data['categories']}\n",
    "category_to_string = {\n",
    "    \"no_mange\": \"Mange Not Detected\",\n",
    "    \"mange\": \"Mange Detected\",\n",
    "}\n",
    "dataset_to_city = {\n",
    "    \"coyote-dens\": \"Edmonton\",\n",
    "    \"mange_Toronto\": \"Toronto\",\n",
    "    \"mange_images\": \"Chicago\",\n",
    "    \"CHIL\": \"Chicago\",\n",
    "    \"CHIL-earlier\": \"Chicago\",\n",
    "}\n",
    "\n",
    "rows = []\n",
    "for annotation in data['annotations']:\n",
    "    image = image_id_to_image[annotation['image_id']]\n",
    "    location = image['location']\n",
    "    dataset = image['file_name'].split('/')[0]\n",
    "    category = category_id_to_category[annotation['category_id']]\n",
    "    category = category_to_string[category]\n",
    "    location = dataset_to_city[dataset] + \": \" + location\n",
    "    rows.append(pd.DataFrame([[location, category, dataset]], columns=['Location', 'Category', 'Dataset']))\n",
    "\n",
    "df = pd.concat(rows)\n"
   ]
  },
  {
   "cell_type": "code",
   "execution_count": null,
   "metadata": {},
   "outputs": [],
   "source": [
    "df[df['Category'] == 'mange']['Dataset'].value_counts()\n"
   ]
  },
  {
   "cell_type": "code",
   "execution_count": null,
   "metadata": {},
   "outputs": [],
   "source": [
    "df['Dataset'].value_counts()\n"
   ]
  },
  {
   "cell_type": "code",
   "execution_count": null,
   "metadata": {},
   "outputs": [],
   "source": [
    "df['Category'].value_counts()\n"
   ]
  },
  {
   "cell_type": "code",
   "execution_count": null,
   "metadata": {},
   "outputs": [],
   "source": [
    "categories_per_dataset\n"
   ]
  },
  {
   "cell_type": "code",
   "execution_count": null,
   "metadata": {},
   "outputs": [],
   "source": [
    "df = df.sort_values(by=['Location', 'Category'])\n"
   ]
  },
  {
   "cell_type": "code",
   "execution_count": null,
   "metadata": {},
   "outputs": [],
   "source": [
    "sns.set_theme(style=\"whitegrid\")\n",
    "\n",
    "g = sns.histplot(\n",
    "    data=df,\n",
    "    y=\"Dataset\",\n",
    "    hue=\"Category\",\n",
    "    multiple=\"dodge\",\n",
    "    shrink=.8,\n",
    ")\n",
    "g.set_xticklabels(g.get_xticklabels(), rotation=90)\n",
    "plt.show()\n"
   ]
  },
  {
   "cell_type": "code",
   "execution_count": null,
   "metadata": {},
   "outputs": [],
   "source": [
    "df_mange = df[df['Category'] == 'Mange Detected']\n",
    "df_no_mange = df[df['Category'] == 'Mange Not Detected']\n",
    "\n",
    "df_no_mange = df_no_mange[df_no_mange['Location'].isin(df_mange['Location'])]\n"
   ]
  },
  {
   "cell_type": "code",
   "execution_count": null,
   "metadata": {},
   "outputs": [],
   "source": [
    "sns.set_style(\"whitegrid\", {\n",
    "    \"font.family\": \"Times New Roman\",\n",
    "    \"text.color\": \"black\",\n",
    "    \"axes.labelcolor\": \"black\",\n",
    "    \"xtick.color\": \"black\",\n",
    "    \"ytick.color\": \"black\",\n",
    "    \"xtick.labelsize\": 16,\n",
    "})\n",
    "sns.set_context(\"paper\", font_scale = 2)\n",
    "fig, axs = plt.subplots(1, 2, figsize=(16, 48), sharex=True, sharey=True)\n",
    "g = sns.histplot(\n",
    "    data=df_mange,\n",
    "    y=\"Location\",\n",
    "    multiple=\"dodge\",\n",
    "    ax=axs[1],\n",
    "    color='orange',\n",
    "    common_bins=True,\n",
    ")\n",
    "axs[1].margins(y=0)\n",
    "axs[1].set_xscale('log')\n",
    "axs[1].legend(\n",
    "    labels=['Mange Detected'],\n",
    "    loc='upper right',\n",
    ")\n",
    "g = sns.histplot(\n",
    "    data=df_no_mange,\n",
    "    y=\"Location\",\n",
    "    multiple=\"dodge\",\n",
    "    ax=axs[0],\n",
    "    common_bins=True,\n",
    ")\n",
    "axs[0].margins(y=0)\n",
    "axs[0].set_xscale('log')\n",
    "axs[0].legend(\n",
    "    labels=['Mange Not Detected'],\n",
    "    loc='upper right',\n",
    ")\n",
    "plt.show()\n"
   ]
  },
  {
   "cell_type": "code",
   "execution_count": null,
   "metadata": {},
   "outputs": [],
   "source": []
  }
 ],
 "metadata": {
  "kernelspec": {
   "display_name": "env",
   "language": "python",
   "name": "python3"
  },
  "language_info": {
   "codemirror_mode": {
    "name": "ipython",
    "version": 3
   },
   "file_extension": ".py",
   "mimetype": "text/x-python",
   "name": "python",
   "nbconvert_exporter": "python",
   "pygments_lexer": "ipython3",
   "version": "3.11.4"
  },
  "orig_nbformat": 4
 },
 "nbformat": 4,
 "nbformat_minor": 2
}
